{
  "nbformat": 4,
  "nbformat_minor": 0,
  "metadata": {
    "colab": {
      "name": "DL_NLP_With_Torch_5.ipynb",
      "provenance": [],
      "collapsed_sections": [],
      "authorship_tag": "ABX9TyNf7/GuY8ZgrKNXUEmEoKhp",
      "include_colab_link": true
    },
    "kernelspec": {
      "name": "python3",
      "display_name": "Python 3"
    },
    "language_info": {
      "name": "python"
    },
    "accelerator": "GPU",
    "gpuClass": "standard"
  },
  "cells": [
    {
      "cell_type": "markdown",
      "metadata": {
        "id": "view-in-github",
        "colab_type": "text"
      },
      "source": [
        "<a href=\"https://colab.research.google.com/github/sanjeevr5/NLP_Excercises/blob/main/DL_NLP_With_Torch_5.ipynb\" target=\"_parent\"><img src=\"https://colab.research.google.com/assets/colab-badge.svg\" alt=\"Open In Colab\"/></a>"
      ]
    },
    {
      "cell_type": "markdown",
      "source": [
        "# Football name generator using character RNN\n",
        "\n",
        "A simple name generator without the condition of country."
      ],
      "metadata": {
        "id": "1prq-lze3o0C"
      }
    },
    {
      "cell_type": "code",
      "execution_count": null,
      "metadata": {
        "id": "HQ3_6RUX3lVH"
      },
      "outputs": [],
      "source": [
        "import torch\n",
        "import torch.nn as nn\n",
        "import torch.optim as optim\n",
        "import numpy as np\n",
        "import pandas as pd\n",
        "import torchtext"
      ]
    },
    {
      "cell_type": "code",
      "source": [
        "SEED = 10\n",
        "np.random.seed(SEED)\n",
        "torch.manual_seed(SEED)\n",
        "torch.cuda.manual_seed(SEED)\n",
        "torch.backends.cudnn.deterministic = True\n",
        "device = torch.device('cuda' if torch.cuda.is_available() else 'cpu')"
      ],
      "metadata": {
        "id": "FU9iktud4ffv"
      },
      "execution_count": null,
      "outputs": []
    },
    {
      "cell_type": "code",
      "source": [
        "data = pd.read_csv('./players_fifa22.csv')\n",
        "data.head()"
      ],
      "metadata": {
        "colab": {
          "base_uri": "https://localhost:8080/",
          "height": 369
        },
        "id": "fQ70lPY54hE9",
        "outputId": "a47b5af0-04ee-49b3-ed31-82ba1879f407"
      },
      "execution_count": null,
      "outputs": [
        {
          "output_type": "execute_result",
          "data": {
            "text/plain": [
              "       ID               Name                      FullName  Age  Height  \\\n",
              "0  158023           L. Messi                  Lionel Messi   34     170   \n",
              "1  188545     R. Lewandowski            Robert Lewandowski   32     185   \n",
              "2   20801  Cristiano Ronaldo  C. Ronaldo dos Santos Aveiro   36     187   \n",
              "3  231747          K. Mbappé                 Kylian Mbappé   22     182   \n",
              "4  200389           J. Oblak                     Jan Oblak   28     188   \n",
              "\n",
              "   Weight                                          PhotoUrl Nationality  \\\n",
              "0      72  https://cdn.sofifa.com/players/158/023/22_60.png   Argentina   \n",
              "1      81  https://cdn.sofifa.com/players/188/545/22_60.png      Poland   \n",
              "2      83  https://cdn.sofifa.com/players/020/801/22_60.png    Portugal   \n",
              "3      73  https://cdn.sofifa.com/players/231/747/22_60.png      France   \n",
              "4      87  https://cdn.sofifa.com/players/200/389/22_60.png    Slovenia   \n",
              "\n",
              "   Overall  Potential  ...  LMRating  CMRating  RMRating LWBRating CDMRating  \\\n",
              "0       93         93  ...        93        90        93        69        67   \n",
              "1       92         92  ...        87        83        87        67        69   \n",
              "2       91         91  ...        89        81        89        66        62   \n",
              "3       91         95  ...        92        84        92        70        66   \n",
              "4       91         93  ...        38        41        38        35        39   \n",
              "\n",
              "  RWBRating  LBRating  CBRating  RBRating GKRating  \n",
              "0        69        64        53        64       22  \n",
              "1        67        64        63        64       22  \n",
              "2        66        63        56        63       23  \n",
              "3        70        66        57        66       21  \n",
              "4        35        35        36        35       92  \n",
              "\n",
              "[5 rows x 90 columns]"
            ],
            "text/html": [
              "\n",
              "  <div id=\"df-6fcbbd64-315e-4e0b-9fb5-1245e9b9a50a\">\n",
              "    <div class=\"colab-df-container\">\n",
              "      <div>\n",
              "<style scoped>\n",
              "    .dataframe tbody tr th:only-of-type {\n",
              "        vertical-align: middle;\n",
              "    }\n",
              "\n",
              "    .dataframe tbody tr th {\n",
              "        vertical-align: top;\n",
              "    }\n",
              "\n",
              "    .dataframe thead th {\n",
              "        text-align: right;\n",
              "    }\n",
              "</style>\n",
              "<table border=\"1\" class=\"dataframe\">\n",
              "  <thead>\n",
              "    <tr style=\"text-align: right;\">\n",
              "      <th></th>\n",
              "      <th>ID</th>\n",
              "      <th>Name</th>\n",
              "      <th>FullName</th>\n",
              "      <th>Age</th>\n",
              "      <th>Height</th>\n",
              "      <th>Weight</th>\n",
              "      <th>PhotoUrl</th>\n",
              "      <th>Nationality</th>\n",
              "      <th>Overall</th>\n",
              "      <th>Potential</th>\n",
              "      <th>...</th>\n",
              "      <th>LMRating</th>\n",
              "      <th>CMRating</th>\n",
              "      <th>RMRating</th>\n",
              "      <th>LWBRating</th>\n",
              "      <th>CDMRating</th>\n",
              "      <th>RWBRating</th>\n",
              "      <th>LBRating</th>\n",
              "      <th>CBRating</th>\n",
              "      <th>RBRating</th>\n",
              "      <th>GKRating</th>\n",
              "    </tr>\n",
              "  </thead>\n",
              "  <tbody>\n",
              "    <tr>\n",
              "      <th>0</th>\n",
              "      <td>158023</td>\n",
              "      <td>L. Messi</td>\n",
              "      <td>Lionel Messi</td>\n",
              "      <td>34</td>\n",
              "      <td>170</td>\n",
              "      <td>72</td>\n",
              "      <td>https://cdn.sofifa.com/players/158/023/22_60.png</td>\n",
              "      <td>Argentina</td>\n",
              "      <td>93</td>\n",
              "      <td>93</td>\n",
              "      <td>...</td>\n",
              "      <td>93</td>\n",
              "      <td>90</td>\n",
              "      <td>93</td>\n",
              "      <td>69</td>\n",
              "      <td>67</td>\n",
              "      <td>69</td>\n",
              "      <td>64</td>\n",
              "      <td>53</td>\n",
              "      <td>64</td>\n",
              "      <td>22</td>\n",
              "    </tr>\n",
              "    <tr>\n",
              "      <th>1</th>\n",
              "      <td>188545</td>\n",
              "      <td>R. Lewandowski</td>\n",
              "      <td>Robert Lewandowski</td>\n",
              "      <td>32</td>\n",
              "      <td>185</td>\n",
              "      <td>81</td>\n",
              "      <td>https://cdn.sofifa.com/players/188/545/22_60.png</td>\n",
              "      <td>Poland</td>\n",
              "      <td>92</td>\n",
              "      <td>92</td>\n",
              "      <td>...</td>\n",
              "      <td>87</td>\n",
              "      <td>83</td>\n",
              "      <td>87</td>\n",
              "      <td>67</td>\n",
              "      <td>69</td>\n",
              "      <td>67</td>\n",
              "      <td>64</td>\n",
              "      <td>63</td>\n",
              "      <td>64</td>\n",
              "      <td>22</td>\n",
              "    </tr>\n",
              "    <tr>\n",
              "      <th>2</th>\n",
              "      <td>20801</td>\n",
              "      <td>Cristiano Ronaldo</td>\n",
              "      <td>C. Ronaldo dos Santos Aveiro</td>\n",
              "      <td>36</td>\n",
              "      <td>187</td>\n",
              "      <td>83</td>\n",
              "      <td>https://cdn.sofifa.com/players/020/801/22_60.png</td>\n",
              "      <td>Portugal</td>\n",
              "      <td>91</td>\n",
              "      <td>91</td>\n",
              "      <td>...</td>\n",
              "      <td>89</td>\n",
              "      <td>81</td>\n",
              "      <td>89</td>\n",
              "      <td>66</td>\n",
              "      <td>62</td>\n",
              "      <td>66</td>\n",
              "      <td>63</td>\n",
              "      <td>56</td>\n",
              "      <td>63</td>\n",
              "      <td>23</td>\n",
              "    </tr>\n",
              "    <tr>\n",
              "      <th>3</th>\n",
              "      <td>231747</td>\n",
              "      <td>K. Mbappé</td>\n",
              "      <td>Kylian Mbappé</td>\n",
              "      <td>22</td>\n",
              "      <td>182</td>\n",
              "      <td>73</td>\n",
              "      <td>https://cdn.sofifa.com/players/231/747/22_60.png</td>\n",
              "      <td>France</td>\n",
              "      <td>91</td>\n",
              "      <td>95</td>\n",
              "      <td>...</td>\n",
              "      <td>92</td>\n",
              "      <td>84</td>\n",
              "      <td>92</td>\n",
              "      <td>70</td>\n",
              "      <td>66</td>\n",
              "      <td>70</td>\n",
              "      <td>66</td>\n",
              "      <td>57</td>\n",
              "      <td>66</td>\n",
              "      <td>21</td>\n",
              "    </tr>\n",
              "    <tr>\n",
              "      <th>4</th>\n",
              "      <td>200389</td>\n",
              "      <td>J. Oblak</td>\n",
              "      <td>Jan Oblak</td>\n",
              "      <td>28</td>\n",
              "      <td>188</td>\n",
              "      <td>87</td>\n",
              "      <td>https://cdn.sofifa.com/players/200/389/22_60.png</td>\n",
              "      <td>Slovenia</td>\n",
              "      <td>91</td>\n",
              "      <td>93</td>\n",
              "      <td>...</td>\n",
              "      <td>38</td>\n",
              "      <td>41</td>\n",
              "      <td>38</td>\n",
              "      <td>35</td>\n",
              "      <td>39</td>\n",
              "      <td>35</td>\n",
              "      <td>35</td>\n",
              "      <td>36</td>\n",
              "      <td>35</td>\n",
              "      <td>92</td>\n",
              "    </tr>\n",
              "  </tbody>\n",
              "</table>\n",
              "<p>5 rows × 90 columns</p>\n",
              "</div>\n",
              "      <button class=\"colab-df-convert\" onclick=\"convertToInteractive('df-6fcbbd64-315e-4e0b-9fb5-1245e9b9a50a')\"\n",
              "              title=\"Convert this dataframe to an interactive table.\"\n",
              "              style=\"display:none;\">\n",
              "        \n",
              "  <svg xmlns=\"http://www.w3.org/2000/svg\" height=\"24px\"viewBox=\"0 0 24 24\"\n",
              "       width=\"24px\">\n",
              "    <path d=\"M0 0h24v24H0V0z\" fill=\"none\"/>\n",
              "    <path d=\"M18.56 5.44l.94 2.06.94-2.06 2.06-.94-2.06-.94-.94-2.06-.94 2.06-2.06.94zm-11 1L8.5 8.5l.94-2.06 2.06-.94-2.06-.94L8.5 2.5l-.94 2.06-2.06.94zm10 10l.94 2.06.94-2.06 2.06-.94-2.06-.94-.94-2.06-.94 2.06-2.06.94z\"/><path d=\"M17.41 7.96l-1.37-1.37c-.4-.4-.92-.59-1.43-.59-.52 0-1.04.2-1.43.59L10.3 9.45l-7.72 7.72c-.78.78-.78 2.05 0 2.83L4 21.41c.39.39.9.59 1.41.59.51 0 1.02-.2 1.41-.59l7.78-7.78 2.81-2.81c.8-.78.8-2.07 0-2.86zM5.41 20L4 18.59l7.72-7.72 1.47 1.35L5.41 20z\"/>\n",
              "  </svg>\n",
              "      </button>\n",
              "      \n",
              "  <style>\n",
              "    .colab-df-container {\n",
              "      display:flex;\n",
              "      flex-wrap:wrap;\n",
              "      gap: 12px;\n",
              "    }\n",
              "\n",
              "    .colab-df-convert {\n",
              "      background-color: #E8F0FE;\n",
              "      border: none;\n",
              "      border-radius: 50%;\n",
              "      cursor: pointer;\n",
              "      display: none;\n",
              "      fill: #1967D2;\n",
              "      height: 32px;\n",
              "      padding: 0 0 0 0;\n",
              "      width: 32px;\n",
              "    }\n",
              "\n",
              "    .colab-df-convert:hover {\n",
              "      background-color: #E2EBFA;\n",
              "      box-shadow: 0px 1px 2px rgba(60, 64, 67, 0.3), 0px 1px 3px 1px rgba(60, 64, 67, 0.15);\n",
              "      fill: #174EA6;\n",
              "    }\n",
              "\n",
              "    [theme=dark] .colab-df-convert {\n",
              "      background-color: #3B4455;\n",
              "      fill: #D2E3FC;\n",
              "    }\n",
              "\n",
              "    [theme=dark] .colab-df-convert:hover {\n",
              "      background-color: #434B5C;\n",
              "      box-shadow: 0px 1px 3px 1px rgba(0, 0, 0, 0.15);\n",
              "      filter: drop-shadow(0px 1px 2px rgba(0, 0, 0, 0.3));\n",
              "      fill: #FFFFFF;\n",
              "    }\n",
              "  </style>\n",
              "\n",
              "      <script>\n",
              "        const buttonEl =\n",
              "          document.querySelector('#df-6fcbbd64-315e-4e0b-9fb5-1245e9b9a50a button.colab-df-convert');\n",
              "        buttonEl.style.display =\n",
              "          google.colab.kernel.accessAllowed ? 'block' : 'none';\n",
              "\n",
              "        async function convertToInteractive(key) {\n",
              "          const element = document.querySelector('#df-6fcbbd64-315e-4e0b-9fb5-1245e9b9a50a');\n",
              "          const dataTable =\n",
              "            await google.colab.kernel.invokeFunction('convertToInteractive',\n",
              "                                                     [key], {});\n",
              "          if (!dataTable) return;\n",
              "\n",
              "          const docLinkHtml = 'Like what you see? Visit the ' +\n",
              "            '<a target=\"_blank\" href=https://colab.research.google.com/notebooks/data_table.ipynb>data table notebook</a>'\n",
              "            + ' to learn more about interactive tables.';\n",
              "          element.innerHTML = '';\n",
              "          dataTable['output_type'] = 'display_data';\n",
              "          await google.colab.output.renderOutput(dataTable, element);\n",
              "          const docLink = document.createElement('div');\n",
              "          docLink.innerHTML = docLinkHtml;\n",
              "          element.appendChild(docLink);\n",
              "        }\n",
              "      </script>\n",
              "    </div>\n",
              "  </div>\n",
              "  "
            ]
          },
          "metadata": {},
          "execution_count": 3
        }
      ]
    },
    {
      "cell_type": "code",
      "source": [
        "names = data.FullName\n",
        "names.shape"
      ],
      "metadata": {
        "colab": {
          "base_uri": "https://localhost:8080/"
        },
        "id": "boBMblhb4ix1",
        "outputId": "9ea5782a-2a78-4449-b95c-3f9babbe9e06"
      },
      "execution_count": null,
      "outputs": [
        {
          "output_type": "execute_result",
          "data": {
            "text/plain": [
              "(19260,)"
            ]
          },
          "metadata": {},
          "execution_count": 4
        }
      ]
    },
    {
      "cell_type": "code",
      "source": [
        "allowed_chars = set()\n",
        "allowed_chars.add('<bos>')\n",
        "allowed_chars.add('<eos>')\n",
        "allowed_chars.add('<pad>')\n",
        "\n",
        "for name in names.values:\n",
        "  allowed_chars.update(list(name))\n",
        "\n",
        "i2s = dict(enumerate(sorted(list(allowed_chars))))\n",
        "s2i = {c:i for i, c in i2s.items()}\n",
        "\n",
        "\n",
        "print('The total unique characters are :', len(s2i))"
      ],
      "metadata": {
        "colab": {
          "base_uri": "https://localhost:8080/"
        },
        "id": "re6VVtrw1fSy",
        "outputId": "91baf20f-e6b2-443a-f9fe-3accbf57dd4b"
      },
      "execution_count": null,
      "outputs": [
        {
          "output_type": "stream",
          "name": "stdout",
          "text": [
            "The total unique characters are : 148\n"
          ]
        }
      ]
    },
    {
      "cell_type": "code",
      "source": [
        "names.apply(len).max()"
      ],
      "metadata": {
        "colab": {
          "base_uri": "https://localhost:8080/"
        },
        "id": "hYVAfRqZ4Qua",
        "outputId": "620b0355-d712-4916-f742-941983a62b65"
      },
      "execution_count": null,
      "outputs": [
        {
          "output_type": "execute_result",
          "data": {
            "text/plain": [
              "35"
            ]
          },
          "metadata": {},
          "execution_count": 6
        }
      ]
    },
    {
      "cell_type": "code",
      "source": [
        "class NamesDataGenerator:\n",
        "  def __init__(self, names, max_len = 35):\n",
        "    self.names = names\n",
        "    self.max_len = max_len\n",
        "  \n",
        "  def __len__(self):\n",
        "    return len(self.names)\n",
        "  \n",
        "  def __getitem__(self, idx):\n",
        "    x = []\n",
        "    x.append(s2i['<bos>'])\n",
        "    for char in self.names[idx]:\n",
        "      x.append(s2i[char])\n",
        "    x = [*x, *[s2i['<pad>']] * (self.max_len - len(x))] [:self.max_len]\n",
        "    y = x[1:]\n",
        "    y.append(s2i['<eos>'])\n",
        "    return torch.tensor(x), torch.tensor(y)\n",
        "\n",
        "train_dataset = NamesDataGenerator(names.values)\n",
        "\n",
        "train_iter = iter(train_dataset)\n",
        "print(next(train_iter))\n",
        "    "
      ],
      "metadata": {
        "colab": {
          "base_uri": "https://localhost:8080/"
        },
        "id": "4PTEx_lw3xGR",
        "outputId": "0372e19d-1172-476d-be44-2c44a40ae09b"
      },
      "execution_count": null,
      "outputs": [
        {
          "output_type": "stream",
          "name": "stdout",
          "text": [
            "(tensor([ 4, 18, 41, 47, 46, 37, 44,  0, 19, 37, 51, 51, 41,  6,  6,  6,  6,  6,\n",
            "         6,  6,  6,  6,  6,  6,  6,  6,  6,  6,  6,  6,  6,  6,  6,  6,  6]), tensor([18, 41, 47, 46, 37, 44,  0, 19, 37, 51, 51, 41,  6,  6,  6,  6,  6,  6,\n",
            "         6,  6,  6,  6,  6,  6,  6,  6,  6,  6,  6,  6,  6,  6,  6,  6,  5]))\n"
          ]
        }
      ]
    },
    {
      "cell_type": "code",
      "source": [
        "from torch.utils.data import DataLoader\n",
        "\n",
        "BATCH_SIZE = 64\n",
        "train_loader = DataLoader(train_dataset, batch_size=BATCH_SIZE, shuffle=True)"
      ],
      "metadata": {
        "id": "8im1rLDe8wtq"
      },
      "execution_count": null,
      "outputs": []
    },
    {
      "cell_type": "code",
      "source": [
        "train_iter = iter(train_loader)\n",
        "X, Y = train_iter.next()\n",
        "print(X.size(), Y.size())"
      ],
      "metadata": {
        "colab": {
          "base_uri": "https://localhost:8080/"
        },
        "id": "AUrERDYN9PfC",
        "outputId": "d6f0ea31-646b-4968-f0aa-9fcf098fb868"
      },
      "execution_count": null,
      "outputs": [
        {
          "output_type": "stream",
          "name": "stdout",
          "text": [
            "torch.Size([64, 35]) torch.Size([64, 35])\n"
          ]
        }
      ]
    },
    {
      "cell_type": "code",
      "source": [
        "class NameGeneratorModel(nn.Module):\n",
        "  def __init__(self, vocab_size, embed_dim, hidden_units, num_layers):\n",
        "    super().__init__()\n",
        "    self.vocab_size = vocab_size\n",
        "    self.hu = hidden_units\n",
        "    self.num_layers = num_layers\n",
        "    self.embed = nn.Embedding(vocab_size, embed_dim)\n",
        "    self.rnn = nn.LSTM(embed_dim, hidden_units, num_layers = num_layers, batch_first = True)\n",
        "    self.fc = nn.Linear(hidden_units, vocab_size)\n",
        "  \n",
        "  def forward(self, data, hidden = None, cell = None):\n",
        "    out = self.embed(data)\n",
        "    if hidden != None and cell != None:\n",
        "      out, (hidden, cell) = self.rnn(out, (hidden, cell))\n",
        "    else:\n",
        "      out, (hidden,cell) = self.rnn(out)\n",
        "    out = self.fc(out)\n",
        "    return out, (hidden, cell)\n",
        "\n",
        "model = NameGeneratorModel(vocab_size = len(s2i), embed_dim = 64,  hidden_units= 128, num_layers = 2)\n",
        "print(f'The total number of trainable parameters are : {sum(p.numel() for p in model.parameters() if p.requires_grad):,}')"
      ],
      "metadata": {
        "colab": {
          "base_uri": "https://localhost:8080/"
        },
        "id": "qtIW0hIc-Juu",
        "outputId": "ea6888ed-fdd6-42ae-b810-45cf8c9a523f"
      },
      "execution_count": null,
      "outputs": [
        {
          "output_type": "stream",
          "name": "stdout",
          "text": [
            "The total number of trainable parameters are : 259,988\n"
          ]
        }
      ]
    },
    {
      "cell_type": "code",
      "source": [
        "lr = 0.005\n",
        "\n",
        "criterion = nn.CrossEntropyLoss()\n",
        "criterion = criterion.to(device)\n",
        "optimizer = optim.Adam(model.parameters(), lr=lr)"
      ],
      "metadata": {
        "id": "WJwvEHAYN3Ju"
      },
      "execution_count": null,
      "outputs": []
    },
    {
      "cell_type": "markdown",
      "source": [
        "## !!--IMPORTANT--!!\n",
        "\n",
        "<b> CROSS ENTROPY LOSS REQUIRES THE PREDICTIONS IN THE FORMAT (BATCH_SIZE, N_CLASSES, TIME_STEP) </b>\n",
        "\n",
        "The labels are of the format (batch_size, an array of timesteps with correct labels)\n",
        "\n",
        "The predictions are of the format (batch_size, n_timesteps, n_classes)"
      ],
      "metadata": {
        "id": "LU6jvmDSyHTP"
      }
    },
    {
      "cell_type": "code",
      "source": [
        "model = model.to(device)"
      ],
      "metadata": {
        "id": "u4cEuun70UjA"
      },
      "execution_count": null,
      "outputs": []
    },
    {
      "cell_type": "code",
      "source": [
        "import time\n",
        "\n",
        "def epoch_time(start_time, end_time):\n",
        "    elapsed_time = end_time - start_time\n",
        "    elapsed_mins = int(elapsed_time / 60)\n",
        "    elapsed_secs = int(elapsed_time - (elapsed_mins * 60))\n",
        "    return elapsed_mins, elapsed_secs\n",
        "\n",
        "def train(model, iterator = train_loader, loss_fn = criterion, optimizer = None):\n",
        "  e_loss = i = 0\n",
        "  model.train()\n",
        "  for inputs, labels in iterator:\n",
        "    inputs, labels = inputs.to(device), labels.to(device)\n",
        "    optimizer.zero_grad()\n",
        "    preds, _ = model(inputs)\n",
        "    loss = loss_fn(preds.transpose(1,2), labels.long()) #Predictions are transposed\n",
        "    loss.backward()\n",
        "    optimizer.step()\n",
        "    e_loss += loss.item()\n",
        "    i += 1\n",
        "  return e_loss/i"
      ],
      "metadata": {
        "id": "KmZGfFjLiHhM"
      },
      "execution_count": null,
      "outputs": []
    },
    {
      "cell_type": "code",
      "source": [
        "N_EPOCHS = 10\n",
        "\n",
        "best_valid_loss = float('inf')\n",
        "\n",
        "for epoch in range(N_EPOCHS):\n",
        "\n",
        "    start_time = time.time()\n",
        "    \n",
        "    train_loss = train(model, optimizer = optimizer)\n",
        "    \n",
        "    end_time = time.time()\n",
        "\n",
        "    epoch_mins, epoch_secs = epoch_time(start_time, end_time)\n",
        "    \n",
        "    print(f'Epoch: {epoch+1:02} / {N_EPOCHS} | Epoch Time: {epoch_mins}m {epoch_secs}s')\n",
        "    print(f'\\tTrain Loss: {train_loss:.3f}')"
      ],
      "metadata": {
        "colab": {
          "base_uri": "https://localhost:8080/"
        },
        "id": "u5KUSGjNbkHC",
        "outputId": "26b2cde5-f3ec-4313-dbfd-05bd28940ca4"
      },
      "execution_count": null,
      "outputs": [
        {
          "output_type": "stream",
          "name": "stdout",
          "text": [
            "Epoch: 01 / 10 | Epoch Time: 0m 2s\n",
            "\tTrain Loss: 0.942\n",
            "Epoch: 02 / 10 | Epoch Time: 0m 1s\n",
            "\tTrain Loss: 0.892\n",
            "Epoch: 03 / 10 | Epoch Time: 0m 1s\n",
            "\tTrain Loss: 0.859\n",
            "Epoch: 04 / 10 | Epoch Time: 0m 1s\n",
            "\tTrain Loss: 0.837\n",
            "Epoch: 05 / 10 | Epoch Time: 0m 1s\n",
            "\tTrain Loss: 0.817\n",
            "Epoch: 06 / 10 | Epoch Time: 0m 1s\n",
            "\tTrain Loss: 0.802\n",
            "Epoch: 07 / 10 | Epoch Time: 0m 1s\n",
            "\tTrain Loss: 0.791\n",
            "Epoch: 08 / 10 | Epoch Time: 0m 1s\n",
            "\tTrain Loss: 0.780\n",
            "Epoch: 09 / 10 | Epoch Time: 0m 1s\n",
            "\tTrain Loss: 0.769\n",
            "Epoch: 10 / 10 | Epoch Time: 0m 1s\n",
            "\tTrain Loss: 0.759\n"
          ]
        }
      ]
    },
    {
      "cell_type": "code",
      "source": [
        "def generate_name(model, start='<bos> L', k = 7):\n",
        "  with torch.no_grad():    \n",
        "    ht = torch.zeros((2, 1, 128)).to(device) #2 layered single time step hidden state\n",
        "    ct = torch.zeros((2, 1, 128)).to(device) #2 layered single time step cell state\n",
        "    length = 0\n",
        "    name = start\n",
        "\n",
        "    for char in start.split(' '):\n",
        "      #LSTM requires the data in 3d format hence shaping into\n",
        "      out, (ht, ct) = model(torch.tensor([[s2i[char]]]).to(device), (ht, ct)) #[batch_size, timestep, num_chars]\n",
        "      length += 1\n",
        "    vals, idxs = torch.topk(out[0], k) # 0 -> first eg in a batch\n",
        "    idx = np.random.choice(idxs.cpu().numpy()[0]) # 0 -> first...\n",
        "    char = i2s[idx]\n",
        "    \n",
        "    while char != '<eos>' or char != '<pad>' and length <= 34:\n",
        "        out, (ht, ct) = model(torch.tensor([[s2i[char]]]).to(device), (ht, ct))\n",
        "        vals, idxs = torch.topk(out[0], k) # 0 -> first eg in a batch\n",
        "        idx = np.random.choice(idxs.cpu().numpy()[0]) # 0 -> first...\n",
        "        char = i2s[idx]\n",
        "        length += 1\n",
        "        name += char\n",
        "  return name"
      ],
      "metadata": {
        "id": "ikwC-ie9N92q"
      },
      "execution_count": null,
      "outputs": []
    },
    {
      "cell_type": "code",
      "source": [
        "generate_name(model)"
      ],
      "metadata": {
        "colab": {
          "base_uri": "https://localhost:8080/",
          "height": 36
        },
        "id": "QkL-hSF24RVS",
        "outputId": "7424dc50-eab5-43f2-9493-7e3c6b9e6991"
      },
      "execution_count": null,
      "outputs": [
        {
          "output_type": "execute_result",
          "data": {
            "text/plain": [
              "'<bos> Ly-MoqveyangalalloūlivázjethMogP<pad><eos>'"
            ],
            "application/vnd.google.colaboratory.intrinsic+json": {
              "type": "string"
            }
          },
          "metadata": {},
          "execution_count": 21
        }
      ]
    },
    {
      "cell_type": "markdown",
      "source": [
        "## Markov Chain Text Generation\n",
        "\n",
        "- Uses bigrams to generate text"
      ],
      "metadata": {
        "id": "Hy_qldcz09Zx"
      }
    },
    {
      "cell_type": "code",
      "source": [
        "def bigrams(tokenized_text):\n",
        "    return list(zip(tokenized_text, tokenized_text[1:]))\n",
        "\n",
        "import string\n",
        "chars = list(string.ascii_letters)\n",
        "grams = bigrams(chars)\n",
        "\n",
        "from collections import defaultdict\n",
        "\n",
        "d = defaultdict(lambda : defaultdict(int))\n",
        "\n",
        "\n",
        "for index in range(len(grams)):\n",
        "    if index + 1 < len(grams):\n",
        "        d[' '.join(grams[index])][' '.join(grams[index + 1])] += 1\n",
        "\n",
        "for curr_s, curr_coll in d.items():\n",
        "    total =  sum(curr_coll.values())\n",
        "    for next_s in curr_coll.keys():\n",
        "        d[curr_s][next_s] /= total"
      ],
      "metadata": {
        "id": "qIKZ9E_v1FLV"
      },
      "execution_count": null,
      "outputs": []
    }
  ]
}