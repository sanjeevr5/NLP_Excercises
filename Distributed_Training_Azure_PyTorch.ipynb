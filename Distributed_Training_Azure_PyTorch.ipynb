{
 "cells": [
  {
   "cell_type": "markdown",
   "id": "138f0d1e-0542-4d9c-b3de-1cdaf7fc3290",
   "metadata": {},
   "source": [
    "# Distributed PyTorch training With Azure ML\n",
    "\n",
    "<b> Objective : To create a multiclass classification model with PyTorch on Azure ML</b>"
   ]
  },
  {
   "cell_type": "code",
   "execution_count": 1,
   "id": "3c633e8e-d963-4f75-a81b-a4a527b09462",
   "metadata": {},
   "outputs": [],
   "source": [
    "%%capture\n",
    "\n",
    "!mkdir ./newsDataset\n",
    "!wget https://raw.githubusercontent.com/mhjabreel/CharCnn_Keras/master/data/ag_news_csv/train.csv -P ./newsDataset\n",
    "!wget https://raw.githubusercontent.com/mhjabreel/CharCnn_Keras/master/data/ag_news_csv/test.csv -P ./newsDataset"
   ]
  },
  {
   "cell_type": "code",
   "execution_count": 2,
   "id": "e8639ebf-1669-446d-98ec-a351afeccad1",
   "metadata": {},
   "outputs": [
    {
     "name": "stderr",
     "output_type": "stream",
     "text": [
      "\"Datastore.upload\" is deprecated after version 1.0.69. Please use \"Dataset.File.upload_directory\" to upload your files             from a local directory and create FileDataset in single method call. See Dataset API change notice at https://aka.ms/dataset-deprecation.\n"
     ]
    },
    {
     "name": "stdout",
     "output_type": "stream",
     "text": [
      "Uploading an estimated of 2 files\n",
      "Uploading ./newsDataset/test.csv\n",
      "Uploaded ./newsDataset/test.csv, 1 files out of an estimated total of 2\n",
      "Uploading ./newsDataset/train.csv\n",
      "Uploaded ./newsDataset/train.csv, 2 files out of an estimated total of 2\n",
      "Uploaded 2 files\n"
     ]
    },
    {
     "data": {
      "text/plain": [
       "$AZUREML_DATAREFERENCE_7370071f1fc144e5b73b4f8df75667d6"
      ]
     },
     "execution_count": 2,
     "metadata": {},
     "output_type": "execute_result"
    }
   ],
   "source": [
    "from azureml.core import Workspace\n",
    "\n",
    "ws = Workspace.from_config()\n",
    "dstore = ws.get_default_datastore()\n",
    "\n",
    "dstore.upload('./newsDataset', '/news-dataset', show_progress = True)"
   ]
  },
  {
   "cell_type": "code",
   "execution_count": 5,
   "id": "9a9e87a1-f398-4cd6-9805-05cb730d1fce",
   "metadata": {},
   "outputs": [
    {
     "data": {
      "text/plain": [
       "{\n",
       "  \"source\": [\n",
       "    \"('workspaceblobstore', 'news-dataset/test.csv')\"\n",
       "  ],\n",
       "  \"definition\": [\n",
       "    \"GetDatastoreFiles\",\n",
       "    \"ParseDelimited\",\n",
       "    \"DropColumns\",\n",
       "    \"SetColumnTypes\"\n",
       "  ],\n",
       "  \"registration\": {\n",
       "    \"id\": \"3aa5e6ad-721b-4d69-8110-1f9161f71036\",\n",
       "    \"name\": \"news-test-dataset\",\n",
       "    \"version\": 1,\n",
       "    \"description\": \"news test dataset\",\n",
       "    \"workspace\": \"Workspace.create(name='mlops-san', subscription_id='0d1442c1-d386-4505-9abe-0bedfd63701e', resource_group='mlops-san')\"\n",
       "  }\n",
       "}"
      ]
     },
     "execution_count": 5,
     "metadata": {},
     "output_type": "execute_result"
    }
   ],
   "source": [
    "#Registering the dataset\n",
    "from azureml.core import Dataset\n",
    "\n",
    "trainDataset =  Dataset.Tabular.from_delimited_files(dstore.path('news-dataset/train.csv'))\n",
    "testDataset =  Dataset.Tabular.from_delimited_files(dstore.path('news-dataset/test.csv'))\n",
    "\n",
    "trainDataset.register(workspace=ws, name='news-train-dataset', description='news train dataset')\n",
    "testDataset.register(workspace=ws, name='news-test-dataset', description='news test dataset')"
   ]
  },
  {
   "cell_type": "markdown",
   "id": "636f0bcb-128e-4efc-acf2-dc4536a9cb4a",
   "metadata": {},
   "source": [
    "# PyTorch Script - Model with training and evaluation script"
   ]
  },
  {
   "cell_type": "code",
   "execution_count": 12,
   "id": "0199a07d-8797-4056-856a-3a44b0953db8",
   "metadata": {},
   "outputs": [
    {
     "ename": "ModuleNotFoundError",
     "evalue": "No module named 'torchtext'",
     "output_type": "error",
     "traceback": [
      "\u001b[0;31m---------------------------------------------------------------------------\u001b[0m",
      "\u001b[0;31mModuleNotFoundError\u001b[0m                       Traceback (most recent call last)",
      "Input \u001b[0;32mIn [12]\u001b[0m, in \u001b[0;36m<cell line: 2>\u001b[0;34m()\u001b[0m\n\u001b[1;32m      1\u001b[0m \u001b[38;5;28;01mfrom\u001b[39;00m \u001b[38;5;21;01mazureml\u001b[39;00m\u001b[38;5;21;01m.\u001b[39;00m\u001b[38;5;21;01mcore\u001b[39;00m \u001b[38;5;28;01mimport\u001b[39;00m Workspace, Dataset\n\u001b[0;32m----> 2\u001b[0m \u001b[38;5;28;01mimport\u001b[39;00m \u001b[38;5;21;01mtorchtext\u001b[39;00m\n\u001b[1;32m      3\u001b[0m \u001b[38;5;28;01mfrom\u001b[39;00m \u001b[38;5;21;01mtorchtext\u001b[39;00m\u001b[38;5;21;01m.\u001b[39;00m\u001b[38;5;21;01mdata\u001b[39;00m\u001b[38;5;21;01m.\u001b[39;00m\u001b[38;5;21;01mutils\u001b[39;00m \u001b[38;5;28;01mimport\u001b[39;00m get_tokenizer, ngrams_iterator\n\u001b[1;32m      5\u001b[0m ws \u001b[38;5;241m=\u001b[39m Workspace\u001b[38;5;241m.\u001b[39mfrom_config() \u001b[38;5;66;03m# create a hidden folder called .azureml and place the config.json there\u001b[39;00m\n",
      "\u001b[0;31mModuleNotFoundError\u001b[0m: No module named 'torchtext'"
     ]
    }
   ],
   "source": [
    "from azureml.core import Workspace, Dataset\n",
    "import torchtext\n",
    "from torchtext.data.utils import get_tokenizer, ngrams_iterator\n",
    "\n",
    "ws = Workspace.from_config() # create a hidden folder called .azureml and place the config.json there\n",
    "\n",
    "train_dataset = Dataset.get_by_name(ws, name='news-train-dataset')\n",
    "train_df = train_dataset.to_pandas_dataframe()\n",
    "\n",
    "test_dataset = Dataset.get_by_name(ws, name='news-test-dataset')\n",
    "test_df = test_dataset.to_pandas_dataframe()\n",
    "\n",
    "train_text, train_label = train_df.iloc[:, 2].map(lambda x : x.lower()), train_df.iloc[:, 0].map(lambda x : int(x) - 1)\n",
    "test_text, test_label = test_df.iloc[:, 2].map(lambda x : x.lower()), test_df.iloc[:, 0].map(lambda x : int(x) - 1)\n",
    "\n",
    "def tokenizer():\n",
    "    pass"
   ]
  },
  {
   "cell_type": "code",
   "execution_count": 10,
   "id": "8b854209-77b6-4840-a21f-e4e9d63c2595",
   "metadata": {},
   "outputs": [
    {
     "ename": "ModuleNotFoundError",
     "evalue": "No module named 'torchtext'",
     "output_type": "error",
     "traceback": [
      "\u001b[0;31m---------------------------------------------------------------------------\u001b[0m",
      "\u001b[0;31mModuleNotFoundError\u001b[0m                       Traceback (most recent call last)",
      "Input \u001b[0;32mIn [10]\u001b[0m, in \u001b[0;36m<cell line: 1>\u001b[0;34m()\u001b[0m\n\u001b[0;32m----> 1\u001b[0m \u001b[38;5;28;01mfrom\u001b[39;00m \u001b[38;5;21;01mtorchtext\u001b[39;00m\u001b[38;5;21;01m.\u001b[39;00m\u001b[38;5;21;01mdata\u001b[39;00m\u001b[38;5;21;01m.\u001b[39;00m\u001b[38;5;21;01mutils\u001b[39;00m \u001b[38;5;28;01mimport\u001b[39;00m get_tokenizer, ngrams_iterator\n\u001b[1;32m      3\u001b[0m tokenizer \u001b[38;5;241m=\u001b[39m get_tokenizer(\u001b[38;5;124m\"\u001b[39m\u001b[38;5;124mbasic_english\u001b[39m\u001b[38;5;124m\"\u001b[39m)\n\u001b[1;32m      5\u001b[0m tokens \u001b[38;5;241m=\u001b[39m tokenizer(\u001b[38;5;124m\"\u001b[39m\u001b[38;5;124mYou can now install TorchText using pip!\u001b[39m\u001b[38;5;124m\"\u001b[39m)\n",
      "\u001b[0;31mModuleNotFoundError\u001b[0m: No module named 'torchtext'"
     ]
    }
   ],
   "source": [
    "from torchtext.data.utils import get_tokenizer, ngrams_iterator\n",
    "\n",
    "tokenizer = get_tokenizer(\"basic_english\")\n",
    "\n",
    "tokens = tokenizer(\"You can now install TorchText using pip!\")"
   ]
  },
  {
   "cell_type": "code",
   "execution_count": null,
   "id": "3741f4f5-54a5-433a-b08b-75edef688f60",
   "metadata": {},
   "outputs": [],
   "source": []
  },
  {
   "cell_type": "code",
   "execution_count": null,
   "id": "ab97223c-d8ca-4307-8e3a-fb78b1ba00f9",
   "metadata": {},
   "outputs": [],
   "source": [
    "import torch\n",
    "import torch.nn as nn\n",
    "from torch.utils import data\n",
    "\n",
    "\n",
    "device = torch.device('cuda' if torch.cuda.is_available() else 'cpu')"
   ]
  }
 ],
 "metadata": {
  "kernelspec": {
   "display_name": "Python 3.8 - AzureML",
   "language": "python",
   "name": "python38-azureml"
  },
  "language_info": {
   "codemirror_mode": {
    "name": "ipython",
    "version": 3
   },
   "file_extension": ".py",
   "mimetype": "text/x-python",
   "name": "python",
   "nbconvert_exporter": "python",
   "pygments_lexer": "ipython3",
   "version": "3.8.5"
  }
 },
 "nbformat": 4,
 "nbformat_minor": 5
}
